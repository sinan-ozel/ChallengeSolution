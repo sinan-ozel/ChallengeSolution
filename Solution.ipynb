{
 "cells": [
  {
   "cell_type": "markdown",
   "metadata": {},
   "source": [
    "# Initialize"
   ]
  },
  {
   "cell_type": "code",
   "execution_count": 82,
   "metadata": {},
   "outputs": [],
   "source": [
    "import pyspark\n",
    "\n",
    "from pyspark import SQLContext\n",
    "\n",
    "from pyspark.sql.types import StructType, StructField, FloatType, BooleanType\n",
    "from pyspark.sql.types import DoubleType, IntegerType, StringType\n",
    "from pyspark.sql import functions as F  # to make sure that Spark functions do not get confused with native Python functions, such as max."
   ]
  },
  {
   "cell_type": "code",
   "execution_count": 34,
   "metadata": {},
   "outputs": [
    {
     "data": {
      "text/plain": [
       "'C:/Users/Sinan Ozel/Jupyter/JobInterviews/PayTM/paytmteam-de-weather-challenge-beb4fc53605c'"
      ]
     },
     "execution_count": 34,
     "metadata": {},
     "output_type": "execute_result"
    }
   ],
   "source": [
    "# Environment: Windows 10. The following line converts to a path that Spark will understand.\n",
    "import os\n",
    "working_dir = '/'.join(os.getcwd().split(\"\\\\\"))\n",
    "working_dir"
   ]
  },
  {
   "cell_type": "code",
   "execution_count": 3,
   "metadata": {},
   "outputs": [],
   "source": [
    "conf = pyspark.SparkConf() \n"
   ]
  },
  {
   "cell_type": "code",
   "execution_count": 7,
   "metadata": {},
   "outputs": [],
   "source": [
    "sc = pyspark.SparkContext.getOrCreate(conf=conf)\n",
    "sqlcontext = SQLContext(sc)"
   ]
  },
  {
   "cell_type": "markdown",
   "metadata": {},
   "source": [
    "# Load Data"
   ]
  },
  {
   "cell_type": "code",
   "execution_count": 172,
   "metadata": {},
   "outputs": [],
   "source": [
    "weather = sqlcontext\\\n",
    "    .read\\\n",
    "    .option(\"header\", True)\\\n",
    "    .option(\"dateFormat\", \"yyyyMMdd\")\\\n",
    "    .option(\"inferSchema\",\"true\")\\\n",
    "    .csv(\"./data/2019\")\\\n",
    "    .withColumn('MEASUREMENT_DATE', F.to_date(F.col(\"YEARMODA\").cast('STRING'), 'yyyyMMdd'))"
   ]
  },
  {
   "cell_type": "code",
   "execution_count": 173,
   "metadata": {},
   "outputs": [
    {
     "data": {
      "text/plain": [
       "['STN---',\n",
       " 'WBAN',\n",
       " 'YEARMODA',\n",
       " 'TEMP',\n",
       " 'DEWP',\n",
       " 'SLP',\n",
       " 'STP',\n",
       " 'VISIB',\n",
       " 'WDSP',\n",
       " 'MXSPD',\n",
       " 'GUST',\n",
       " 'MAX',\n",
       " 'MIN',\n",
       " 'PRCP',\n",
       " 'SNDP',\n",
       " 'FRSHTT',\n",
       " 'MEASUREMENT_DATE']"
      ]
     },
     "execution_count": 173,
     "metadata": {},
     "output_type": "execute_result"
    }
   ],
   "source": [
    "weather.columns"
   ]
  },
  {
   "cell_type": "code",
   "execution_count": 174,
   "metadata": {},
   "outputs": [
    {
     "name": "stdout",
     "output_type": "stream",
     "text": [
      "root\n",
      " |-- STN---: integer (nullable = true)\n",
      " |-- WBAN: integer (nullable = true)\n",
      " |-- YEARMODA: integer (nullable = true)\n",
      " |-- TEMP: double (nullable = true)\n",
      " |-- DEWP: double (nullable = true)\n",
      " |-- SLP: double (nullable = true)\n",
      " |-- STP: double (nullable = true)\n",
      " |-- VISIB: double (nullable = true)\n",
      " |-- WDSP: double (nullable = true)\n",
      " |-- MXSPD: double (nullable = true)\n",
      " |-- GUST: double (nullable = true)\n",
      " |-- MAX: string (nullable = true)\n",
      " |-- MIN: string (nullable = true)\n",
      " |-- PRCP: string (nullable = true)\n",
      " |-- SNDP: double (nullable = true)\n",
      " |-- FRSHTT: integer (nullable = true)\n",
      " |-- MEASUREMENT_DATE: date (nullable = true)\n",
      "\n"
     ]
    }
   ],
   "source": [
    "weather.printSchema()"
   ]
  },
  {
   "cell_type": "code",
   "execution_count": 175,
   "metadata": {},
   "outputs": [
    {
     "data": {
      "text/plain": [
       "4158416"
      ]
     },
     "execution_count": 175,
     "metadata": {},
     "output_type": "execute_result"
    }
   ],
   "source": [
    "weather.count()"
   ]
  },
  {
   "cell_type": "code",
   "execution_count": 176,
   "metadata": {},
   "outputs": [],
   "source": [
    "countrylist = sqlcontext\\\n",
    "    .read\\\n",
    "    .option(\"header\",True)\\\n",
    "    .format(\"csv\")\\\n",
    "    .load(\"file:///\" + working_dir + \"/countrylist.csv\")"
   ]
  },
  {
   "cell_type": "code",
   "execution_count": 177,
   "metadata": {},
   "outputs": [
    {
     "data": {
      "text/plain": [
       "pyspark.sql.dataframe.DataFrame"
      ]
     },
     "execution_count": 177,
     "metadata": {},
     "output_type": "execute_result"
    }
   ],
   "source": [
    "type(countrylist)"
   ]
  },
  {
   "cell_type": "code",
   "execution_count": 178,
   "metadata": {},
   "outputs": [
    {
     "data": {
      "text/plain": [
       "['COUNTRY_ABBR', 'COUNTRY_FULL']"
      ]
     },
     "execution_count": 178,
     "metadata": {},
     "output_type": "execute_result"
    }
   ],
   "source": [
    "countrylist.columns"
   ]
  },
  {
   "cell_type": "code",
   "execution_count": 179,
   "metadata": {},
   "outputs": [
    {
     "data": {
      "text/plain": [
       "288"
      ]
     },
     "execution_count": 179,
     "metadata": {},
     "output_type": "execute_result"
    }
   ],
   "source": [
    "countrylist.count()"
   ]
  },
  {
   "cell_type": "code",
   "execution_count": 180,
   "metadata": {},
   "outputs": [],
   "source": [
    "stationlist = sqlcontext\\\n",
    "    .read\\\n",
    "    .option(\"header\",True)\\\n",
    "    .format(\"csv\")\\\n",
    "    .load(\"file:///\" + working_dir + \"/stationlist.csv\")"
   ]
  },
  {
   "cell_type": "code",
   "execution_count": 181,
   "metadata": {},
   "outputs": [
    {
     "data": {
      "text/plain": [
       "pyspark.sql.dataframe.DataFrame"
      ]
     },
     "execution_count": 181,
     "metadata": {},
     "output_type": "execute_result"
    }
   ],
   "source": [
    "type(stationlist)"
   ]
  },
  {
   "cell_type": "code",
   "execution_count": 182,
   "metadata": {},
   "outputs": [
    {
     "data": {
      "text/plain": [
       "25306"
      ]
     },
     "execution_count": 182,
     "metadata": {},
     "output_type": "execute_result"
    }
   ],
   "source": [
    "stationlist.count()"
   ]
  },
  {
   "cell_type": "code",
   "execution_count": 183,
   "metadata": {},
   "outputs": [
    {
     "data": {
      "text/plain": [
       "['STN_NO', 'COUNTRY_ABBR']"
      ]
     },
     "execution_count": 183,
     "metadata": {},
     "output_type": "execute_result"
    }
   ],
   "source": [
    "stationlist.columns"
   ]
  },
  {
   "cell_type": "code",
   "execution_count": 184,
   "metadata": {},
   "outputs": [],
   "source": [
    "weather.createOrReplaceTempView('weather')\n",
    "countrylist.createOrReplaceTempView('countrylist')\n",
    "stationlist.createOrReplaceTempView('stationlist')"
   ]
  },
  {
   "cell_type": "markdown",
   "metadata": {},
   "source": [
    "# Step 1 - Setting Up the Data"
   ]
  },
  {
   "cell_type": "code",
   "execution_count": 185,
   "metadata": {},
   "outputs": [
    {
     "data": {
      "text/html": [
       "<div>\n",
       "<style scoped>\n",
       "    .dataframe tbody tr th:only-of-type {\n",
       "        vertical-align: middle;\n",
       "    }\n",
       "\n",
       "    .dataframe tbody tr th {\n",
       "        vertical-align: top;\n",
       "    }\n",
       "\n",
       "    .dataframe thead th {\n",
       "        text-align: right;\n",
       "    }\n",
       "</style>\n",
       "<table border=\"1\" class=\"dataframe\">\n",
       "  <thead>\n",
       "    <tr style=\"text-align: right;\">\n",
       "      <th></th>\n",
       "      <th>STN---</th>\n",
       "      <th>WBAN</th>\n",
       "      <th>YEARMODA</th>\n",
       "      <th>TEMP</th>\n",
       "      <th>DEWP</th>\n",
       "      <th>SLP</th>\n",
       "      <th>STP</th>\n",
       "      <th>VISIB</th>\n",
       "      <th>WDSP</th>\n",
       "      <th>MXSPD</th>\n",
       "      <th>GUST</th>\n",
       "      <th>MAX</th>\n",
       "      <th>MIN</th>\n",
       "      <th>PRCP</th>\n",
       "      <th>SNDP</th>\n",
       "      <th>FRSHTT</th>\n",
       "      <th>MEASUREMENT_DATE</th>\n",
       "    </tr>\n",
       "  </thead>\n",
       "  <tbody>\n",
       "    <tr>\n",
       "      <th>0</th>\n",
       "      <td>10260</td>\n",
       "      <td>99999</td>\n",
       "      <td>20190101</td>\n",
       "      <td>26.1</td>\n",
       "      <td>21.2</td>\n",
       "      <td>1001.9</td>\n",
       "      <td>987.5</td>\n",
       "      <td>20.6</td>\n",
       "      <td>9.0</td>\n",
       "      <td>15.9</td>\n",
       "      <td>29.7</td>\n",
       "      <td>29.8</td>\n",
       "      <td>21.7*</td>\n",
       "      <td>0.02G</td>\n",
       "      <td>18.5</td>\n",
       "      <td>1000</td>\n",
       "      <td>2019-01-01</td>\n",
       "    </tr>\n",
       "    <tr>\n",
       "      <th>1</th>\n",
       "      <td>10260</td>\n",
       "      <td>99999</td>\n",
       "      <td>20190102</td>\n",
       "      <td>24.9</td>\n",
       "      <td>22.1</td>\n",
       "      <td>1020.1</td>\n",
       "      <td>1005.5</td>\n",
       "      <td>5.4</td>\n",
       "      <td>5.6</td>\n",
       "      <td>13.6</td>\n",
       "      <td>22.1</td>\n",
       "      <td>27.1*</td>\n",
       "      <td>20.7</td>\n",
       "      <td>0.48G</td>\n",
       "      <td>22.8</td>\n",
       "      <td>1000</td>\n",
       "      <td>2019-01-02</td>\n",
       "    </tr>\n",
       "    <tr>\n",
       "      <th>2</th>\n",
       "      <td>10260</td>\n",
       "      <td>99999</td>\n",
       "      <td>20190103</td>\n",
       "      <td>31.7</td>\n",
       "      <td>29.1</td>\n",
       "      <td>1008.9</td>\n",
       "      <td>994.7</td>\n",
       "      <td>13.6</td>\n",
       "      <td>11.6</td>\n",
       "      <td>21.4</td>\n",
       "      <td>49.5</td>\n",
       "      <td>37.4*</td>\n",
       "      <td>26.8*</td>\n",
       "      <td>0.25G</td>\n",
       "      <td>999.9</td>\n",
       "      <td>11000</td>\n",
       "      <td>2019-01-03</td>\n",
       "    </tr>\n",
       "    <tr>\n",
       "      <th>3</th>\n",
       "      <td>10260</td>\n",
       "      <td>99999</td>\n",
       "      <td>20190104</td>\n",
       "      <td>32.9</td>\n",
       "      <td>30.3</td>\n",
       "      <td>1011.4</td>\n",
       "      <td>997.1</td>\n",
       "      <td>15.8</td>\n",
       "      <td>4.9</td>\n",
       "      <td>7.8</td>\n",
       "      <td>10.9</td>\n",
       "      <td>36.1</td>\n",
       "      <td>31.8</td>\n",
       "      <td>0.52G</td>\n",
       "      <td>999.9</td>\n",
       "      <td>1000</td>\n",
       "      <td>2019-01-04</td>\n",
       "    </tr>\n",
       "    <tr>\n",
       "      <th>4</th>\n",
       "      <td>10260</td>\n",
       "      <td>99999</td>\n",
       "      <td>20190105</td>\n",
       "      <td>35.5</td>\n",
       "      <td>33.0</td>\n",
       "      <td>1015.7</td>\n",
       "      <td>1001.4</td>\n",
       "      <td>12.0</td>\n",
       "      <td>10.4</td>\n",
       "      <td>13.6</td>\n",
       "      <td>21.0</td>\n",
       "      <td>38.5*</td>\n",
       "      <td>32.7</td>\n",
       "      <td>0.02G</td>\n",
       "      <td>23.6</td>\n",
       "      <td>10000</td>\n",
       "      <td>2019-01-05</td>\n",
       "    </tr>\n",
       "    <tr>\n",
       "      <th>5</th>\n",
       "      <td>10260</td>\n",
       "      <td>99999</td>\n",
       "      <td>20190106</td>\n",
       "      <td>38.5</td>\n",
       "      <td>34.1</td>\n",
       "      <td>1008.2</td>\n",
       "      <td>994.2</td>\n",
       "      <td>12.8</td>\n",
       "      <td>10.0</td>\n",
       "      <td>17.5</td>\n",
       "      <td>28.9</td>\n",
       "      <td>41.4</td>\n",
       "      <td>33.8*</td>\n",
       "      <td>0.12G</td>\n",
       "      <td>23.2</td>\n",
       "      <td>10000</td>\n",
       "      <td>2019-01-06</td>\n",
       "    </tr>\n",
       "    <tr>\n",
       "      <th>6</th>\n",
       "      <td>10260</td>\n",
       "      <td>99999</td>\n",
       "      <td>20190107</td>\n",
       "      <td>32.1</td>\n",
       "      <td>29.8</td>\n",
       "      <td>996.8</td>\n",
       "      <td>982.7</td>\n",
       "      <td>6.9</td>\n",
       "      <td>11.3</td>\n",
       "      <td>15.5</td>\n",
       "      <td>28.6</td>\n",
       "      <td>35.1*</td>\n",
       "      <td>30.4</td>\n",
       "      <td>0.00G</td>\n",
       "      <td>999.9</td>\n",
       "      <td>1000</td>\n",
       "      <td>2019-01-07</td>\n",
       "    </tr>\n",
       "    <tr>\n",
       "      <th>7</th>\n",
       "      <td>10260</td>\n",
       "      <td>99999</td>\n",
       "      <td>20190108</td>\n",
       "      <td>31.6</td>\n",
       "      <td>28.0</td>\n",
       "      <td>997.4</td>\n",
       "      <td>983.3</td>\n",
       "      <td>22.9</td>\n",
       "      <td>5.9</td>\n",
       "      <td>11.7</td>\n",
       "      <td>19.0</td>\n",
       "      <td>34.3</td>\n",
       "      <td>28.0*</td>\n",
       "      <td>0.53G</td>\n",
       "      <td>0.4</td>\n",
       "      <td>11000</td>\n",
       "      <td>2019-01-08</td>\n",
       "    </tr>\n",
       "    <tr>\n",
       "      <th>8</th>\n",
       "      <td>10260</td>\n",
       "      <td>99999</td>\n",
       "      <td>20190109</td>\n",
       "      <td>29.9</td>\n",
       "      <td>27.7</td>\n",
       "      <td>1011.6</td>\n",
       "      <td>997.3</td>\n",
       "      <td>29.8</td>\n",
       "      <td>7.6</td>\n",
       "      <td>15.2</td>\n",
       "      <td>26.6</td>\n",
       "      <td>32.4</td>\n",
       "      <td>26.1</td>\n",
       "      <td>0.20G</td>\n",
       "      <td>23.6</td>\n",
       "      <td>1000</td>\n",
       "      <td>2019-01-09</td>\n",
       "    </tr>\n",
       "    <tr>\n",
       "      <th>9</th>\n",
       "      <td>10260</td>\n",
       "      <td>99999</td>\n",
       "      <td>20190110</td>\n",
       "      <td>33.1</td>\n",
       "      <td>30.6</td>\n",
       "      <td>979.1</td>\n",
       "      <td>965.3</td>\n",
       "      <td>5.3</td>\n",
       "      <td>17.8</td>\n",
       "      <td>24.9</td>\n",
       "      <td>41.8</td>\n",
       "      <td>41.4</td>\n",
       "      <td>28.8*</td>\n",
       "      <td>0.00G</td>\n",
       "      <td>999.9</td>\n",
       "      <td>11000</td>\n",
       "      <td>2019-01-10</td>\n",
       "    </tr>\n",
       "    <tr>\n",
       "      <th>10</th>\n",
       "      <td>10260</td>\n",
       "      <td>99999</td>\n",
       "      <td>20190111</td>\n",
       "      <td>31.2</td>\n",
       "      <td>29.0</td>\n",
       "      <td>975.0</td>\n",
       "      <td>961.1</td>\n",
       "      <td>5.6</td>\n",
       "      <td>11.6</td>\n",
       "      <td>17.5</td>\n",
       "      <td>38.9</td>\n",
       "      <td>33.3*</td>\n",
       "      <td>27.9*</td>\n",
       "      <td>0.83G</td>\n",
       "      <td>0.4</td>\n",
       "      <td>11100</td>\n",
       "      <td>2019-01-11</td>\n",
       "    </tr>\n",
       "    <tr>\n",
       "      <th>11</th>\n",
       "      <td>10260</td>\n",
       "      <td>99999</td>\n",
       "      <td>20190112</td>\n",
       "      <td>28.3</td>\n",
       "      <td>26.1</td>\n",
       "      <td>988.2</td>\n",
       "      <td>974.1</td>\n",
       "      <td>8.2</td>\n",
       "      <td>8.1</td>\n",
       "      <td>13.6</td>\n",
       "      <td>38.5</td>\n",
       "      <td>30.7*</td>\n",
       "      <td>25.7*</td>\n",
       "      <td>0.00G</td>\n",
       "      <td>999.9</td>\n",
       "      <td>1000</td>\n",
       "      <td>2019-01-12</td>\n",
       "    </tr>\n",
       "    <tr>\n",
       "      <th>12</th>\n",
       "      <td>10260</td>\n",
       "      <td>99999</td>\n",
       "      <td>20190113</td>\n",
       "      <td>22.7</td>\n",
       "      <td>20.9</td>\n",
       "      <td>977.1</td>\n",
       "      <td>963.0</td>\n",
       "      <td>26.6</td>\n",
       "      <td>4.1</td>\n",
       "      <td>7.8</td>\n",
       "      <td>15.2</td>\n",
       "      <td>27.7</td>\n",
       "      <td>18.0*</td>\n",
       "      <td>0.51G</td>\n",
       "      <td>0.4</td>\n",
       "      <td>1000</td>\n",
       "      <td>2019-01-13</td>\n",
       "    </tr>\n",
       "    <tr>\n",
       "      <th>13</th>\n",
       "      <td>10260</td>\n",
       "      <td>99999</td>\n",
       "      <td>20190114</td>\n",
       "      <td>20.0</td>\n",
       "      <td>18.3</td>\n",
       "      <td>984.3</td>\n",
       "      <td>970.0</td>\n",
       "      <td>43.1</td>\n",
       "      <td>3.6</td>\n",
       "      <td>9.7</td>\n",
       "      <td>10.7</td>\n",
       "      <td>23.4*</td>\n",
       "      <td>15.4</td>\n",
       "      <td>0.05G</td>\n",
       "      <td>38.6</td>\n",
       "      <td>0</td>\n",
       "      <td>2019-01-14</td>\n",
       "    </tr>\n",
       "    <tr>\n",
       "      <th>14</th>\n",
       "      <td>10260</td>\n",
       "      <td>99999</td>\n",
       "      <td>20190115</td>\n",
       "      <td>25.9</td>\n",
       "      <td>23.2</td>\n",
       "      <td>991.3</td>\n",
       "      <td>977.1</td>\n",
       "      <td>16.0</td>\n",
       "      <td>7.4</td>\n",
       "      <td>13.8</td>\n",
       "      <td>20.8</td>\n",
       "      <td>27.3</td>\n",
       "      <td>19.2</td>\n",
       "      <td>0.07G</td>\n",
       "      <td>999.9</td>\n",
       "      <td>1000</td>\n",
       "      <td>2019-01-15</td>\n",
       "    </tr>\n",
       "    <tr>\n",
       "      <th>15</th>\n",
       "      <td>10260</td>\n",
       "      <td>99999</td>\n",
       "      <td>20190116</td>\n",
       "      <td>24.8</td>\n",
       "      <td>21.8</td>\n",
       "      <td>992.5</td>\n",
       "      <td>978.2</td>\n",
       "      <td>33.4</td>\n",
       "      <td>2.7</td>\n",
       "      <td>5.8</td>\n",
       "      <td>999.9</td>\n",
       "      <td>26.1</td>\n",
       "      <td>23.5</td>\n",
       "      <td>0.06G</td>\n",
       "      <td>35.4</td>\n",
       "      <td>1000</td>\n",
       "      <td>2019-01-16</td>\n",
       "    </tr>\n",
       "    <tr>\n",
       "      <th>16</th>\n",
       "      <td>10260</td>\n",
       "      <td>99999</td>\n",
       "      <td>20190117</td>\n",
       "      <td>21.4</td>\n",
       "      <td>19.0</td>\n",
       "      <td>989.8</td>\n",
       "      <td>975.5</td>\n",
       "      <td>10.4</td>\n",
       "      <td>6.1</td>\n",
       "      <td>8.9</td>\n",
       "      <td>13.4</td>\n",
       "      <td>24.4*</td>\n",
       "      <td>19.4*</td>\n",
       "      <td>0.04G</td>\n",
       "      <td>35.0</td>\n",
       "      <td>1000</td>\n",
       "      <td>2019-01-17</td>\n",
       "    </tr>\n",
       "    <tr>\n",
       "      <th>17</th>\n",
       "      <td>10260</td>\n",
       "      <td>99999</td>\n",
       "      <td>20190118</td>\n",
       "      <td>21.0</td>\n",
       "      <td>19.1</td>\n",
       "      <td>994.4</td>\n",
       "      <td>980.0</td>\n",
       "      <td>13.8</td>\n",
       "      <td>5.6</td>\n",
       "      <td>7.8</td>\n",
       "      <td>12.8</td>\n",
       "      <td>22.3</td>\n",
       "      <td>19.2</td>\n",
       "      <td>0.11G</td>\n",
       "      <td>35.0</td>\n",
       "      <td>1000</td>\n",
       "      <td>2019-01-18</td>\n",
       "    </tr>\n",
       "    <tr>\n",
       "      <th>18</th>\n",
       "      <td>10260</td>\n",
       "      <td>99999</td>\n",
       "      <td>20190119</td>\n",
       "      <td>20.2</td>\n",
       "      <td>18.5</td>\n",
       "      <td>1000.8</td>\n",
       "      <td>986.3</td>\n",
       "      <td>33.9</td>\n",
       "      <td>3.4</td>\n",
       "      <td>7.8</td>\n",
       "      <td>10.3</td>\n",
       "      <td>22.1*</td>\n",
       "      <td>17.6*</td>\n",
       "      <td>0.09G</td>\n",
       "      <td>35.8</td>\n",
       "      <td>1000</td>\n",
       "      <td>2019-01-19</td>\n",
       "    </tr>\n",
       "    <tr>\n",
       "      <th>19</th>\n",
       "      <td>10260</td>\n",
       "      <td>99999</td>\n",
       "      <td>20190120</td>\n",
       "      <td>21.7</td>\n",
       "      <td>18.5</td>\n",
       "      <td>1009.0</td>\n",
       "      <td>994.4</td>\n",
       "      <td>32.1</td>\n",
       "      <td>9.5</td>\n",
       "      <td>14.6</td>\n",
       "      <td>20.4</td>\n",
       "      <td>23.5*</td>\n",
       "      <td>18.7</td>\n",
       "      <td>0.11G</td>\n",
       "      <td>999.9</td>\n",
       "      <td>1000</td>\n",
       "      <td>2019-01-20</td>\n",
       "    </tr>\n",
       "    <tr>\n",
       "      <th>20</th>\n",
       "      <td>10260</td>\n",
       "      <td>99999</td>\n",
       "      <td>20190121</td>\n",
       "      <td>22.4</td>\n",
       "      <td>19.1</td>\n",
       "      <td>1011.6</td>\n",
       "      <td>997.0</td>\n",
       "      <td>26.9</td>\n",
       "      <td>6.4</td>\n",
       "      <td>13.8</td>\n",
       "      <td>22.9</td>\n",
       "      <td>25.0*</td>\n",
       "      <td>19.8</td>\n",
       "      <td>0.19G</td>\n",
       "      <td>39.8</td>\n",
       "      <td>1000</td>\n",
       "      <td>2019-01-21</td>\n",
       "    </tr>\n",
       "    <tr>\n",
       "      <th>21</th>\n",
       "      <td>10260</td>\n",
       "      <td>99999</td>\n",
       "      <td>20190122</td>\n",
       "      <td>23.3</td>\n",
       "      <td>20.5</td>\n",
       "      <td>1006.7</td>\n",
       "      <td>992.2</td>\n",
       "      <td>28.7</td>\n",
       "      <td>6.1</td>\n",
       "      <td>15.5</td>\n",
       "      <td>25.4</td>\n",
       "      <td>26.6</td>\n",
       "      <td>16.5*</td>\n",
       "      <td>0.40G</td>\n",
       "      <td>999.9</td>\n",
       "      <td>1000</td>\n",
       "      <td>2019-01-22</td>\n",
       "    </tr>\n",
       "    <tr>\n",
       "      <th>22</th>\n",
       "      <td>10260</td>\n",
       "      <td>99999</td>\n",
       "      <td>20190123</td>\n",
       "      <td>14.6</td>\n",
       "      <td>11.4</td>\n",
       "      <td>1013.7</td>\n",
       "      <td>998.9</td>\n",
       "      <td>45.3</td>\n",
       "      <td>3.3</td>\n",
       "      <td>4.7</td>\n",
       "      <td>12.4</td>\n",
       "      <td>21.0</td>\n",
       "      <td>11.1</td>\n",
       "      <td>0.02G</td>\n",
       "      <td>45.3</td>\n",
       "      <td>0</td>\n",
       "      <td>2019-01-23</td>\n",
       "    </tr>\n",
       "    <tr>\n",
       "      <th>23</th>\n",
       "      <td>10260</td>\n",
       "      <td>99999</td>\n",
       "      <td>20190124</td>\n",
       "      <td>14.4</td>\n",
       "      <td>11.5</td>\n",
       "      <td>1019.1</td>\n",
       "      <td>1004.2</td>\n",
       "      <td>44.7</td>\n",
       "      <td>2.6</td>\n",
       "      <td>3.9</td>\n",
       "      <td>999.9</td>\n",
       "      <td>17.2*</td>\n",
       "      <td>12.2</td>\n",
       "      <td>0.00G</td>\n",
       "      <td>40.9</td>\n",
       "      <td>0</td>\n",
       "      <td>2019-01-24</td>\n",
       "    </tr>\n",
       "    <tr>\n",
       "      <th>24</th>\n",
       "      <td>10260</td>\n",
       "      <td>99999</td>\n",
       "      <td>20190125</td>\n",
       "      <td>22.3</td>\n",
       "      <td>7.8</td>\n",
       "      <td>1014.1</td>\n",
       "      <td>999.5</td>\n",
       "      <td>43.5</td>\n",
       "      <td>7.3</td>\n",
       "      <td>10.3</td>\n",
       "      <td>27.4</td>\n",
       "      <td>23.5</td>\n",
       "      <td>12.4</td>\n",
       "      <td>0.00G</td>\n",
       "      <td>40.2</td>\n",
       "      <td>0</td>\n",
       "      <td>2019-01-25</td>\n",
       "    </tr>\n",
       "  </tbody>\n",
       "</table>\n",
       "</div>"
      ],
      "text/plain": [
       "    STN---   WBAN  YEARMODA  TEMP  DEWP     SLP     STP  VISIB  WDSP  MXSPD  \\\n",
       "0    10260  99999  20190101  26.1  21.2  1001.9   987.5   20.6   9.0   15.9   \n",
       "1    10260  99999  20190102  24.9  22.1  1020.1  1005.5    5.4   5.6   13.6   \n",
       "2    10260  99999  20190103  31.7  29.1  1008.9   994.7   13.6  11.6   21.4   \n",
       "3    10260  99999  20190104  32.9  30.3  1011.4   997.1   15.8   4.9    7.8   \n",
       "4    10260  99999  20190105  35.5  33.0  1015.7  1001.4   12.0  10.4   13.6   \n",
       "5    10260  99999  20190106  38.5  34.1  1008.2   994.2   12.8  10.0   17.5   \n",
       "6    10260  99999  20190107  32.1  29.8   996.8   982.7    6.9  11.3   15.5   \n",
       "7    10260  99999  20190108  31.6  28.0   997.4   983.3   22.9   5.9   11.7   \n",
       "8    10260  99999  20190109  29.9  27.7  1011.6   997.3   29.8   7.6   15.2   \n",
       "9    10260  99999  20190110  33.1  30.6   979.1   965.3    5.3  17.8   24.9   \n",
       "10   10260  99999  20190111  31.2  29.0   975.0   961.1    5.6  11.6   17.5   \n",
       "11   10260  99999  20190112  28.3  26.1   988.2   974.1    8.2   8.1   13.6   \n",
       "12   10260  99999  20190113  22.7  20.9   977.1   963.0   26.6   4.1    7.8   \n",
       "13   10260  99999  20190114  20.0  18.3   984.3   970.0   43.1   3.6    9.7   \n",
       "14   10260  99999  20190115  25.9  23.2   991.3   977.1   16.0   7.4   13.8   \n",
       "15   10260  99999  20190116  24.8  21.8   992.5   978.2   33.4   2.7    5.8   \n",
       "16   10260  99999  20190117  21.4  19.0   989.8   975.5   10.4   6.1    8.9   \n",
       "17   10260  99999  20190118  21.0  19.1   994.4   980.0   13.8   5.6    7.8   \n",
       "18   10260  99999  20190119  20.2  18.5  1000.8   986.3   33.9   3.4    7.8   \n",
       "19   10260  99999  20190120  21.7  18.5  1009.0   994.4   32.1   9.5   14.6   \n",
       "20   10260  99999  20190121  22.4  19.1  1011.6   997.0   26.9   6.4   13.8   \n",
       "21   10260  99999  20190122  23.3  20.5  1006.7   992.2   28.7   6.1   15.5   \n",
       "22   10260  99999  20190123  14.6  11.4  1013.7   998.9   45.3   3.3    4.7   \n",
       "23   10260  99999  20190124  14.4  11.5  1019.1  1004.2   44.7   2.6    3.9   \n",
       "24   10260  99999  20190125  22.3   7.8  1014.1   999.5   43.5   7.3   10.3   \n",
       "\n",
       "     GUST    MAX    MIN   PRCP   SNDP  FRSHTT MEASUREMENT_DATE  \n",
       "0    29.7   29.8  21.7*  0.02G   18.5    1000       2019-01-01  \n",
       "1    22.1  27.1*   20.7  0.48G   22.8    1000       2019-01-02  \n",
       "2    49.5  37.4*  26.8*  0.25G  999.9   11000       2019-01-03  \n",
       "3    10.9   36.1   31.8  0.52G  999.9    1000       2019-01-04  \n",
       "4    21.0  38.5*   32.7  0.02G   23.6   10000       2019-01-05  \n",
       "5    28.9   41.4  33.8*  0.12G   23.2   10000       2019-01-06  \n",
       "6    28.6  35.1*   30.4  0.00G  999.9    1000       2019-01-07  \n",
       "7    19.0   34.3  28.0*  0.53G    0.4   11000       2019-01-08  \n",
       "8    26.6   32.4   26.1  0.20G   23.6    1000       2019-01-09  \n",
       "9    41.8   41.4  28.8*  0.00G  999.9   11000       2019-01-10  \n",
       "10   38.9  33.3*  27.9*  0.83G    0.4   11100       2019-01-11  \n",
       "11   38.5  30.7*  25.7*  0.00G  999.9    1000       2019-01-12  \n",
       "12   15.2   27.7  18.0*  0.51G    0.4    1000       2019-01-13  \n",
       "13   10.7  23.4*   15.4  0.05G   38.6       0       2019-01-14  \n",
       "14   20.8   27.3   19.2  0.07G  999.9    1000       2019-01-15  \n",
       "15  999.9   26.1   23.5  0.06G   35.4    1000       2019-01-16  \n",
       "16   13.4  24.4*  19.4*  0.04G   35.0    1000       2019-01-17  \n",
       "17   12.8   22.3   19.2  0.11G   35.0    1000       2019-01-18  \n",
       "18   10.3  22.1*  17.6*  0.09G   35.8    1000       2019-01-19  \n",
       "19   20.4  23.5*   18.7  0.11G  999.9    1000       2019-01-20  \n",
       "20   22.9  25.0*   19.8  0.19G   39.8    1000       2019-01-21  \n",
       "21   25.4   26.6  16.5*  0.40G  999.9    1000       2019-01-22  \n",
       "22   12.4   21.0   11.1  0.02G   45.3       0       2019-01-23  \n",
       "23  999.9  17.2*   12.2  0.00G   40.9       0       2019-01-24  \n",
       "24   27.4   23.5   12.4  0.00G   40.2       0       2019-01-25  "
      ]
     },
     "execution_count": 185,
     "metadata": {},
     "output_type": "execute_result"
    }
   ],
   "source": [
    "# Quick visual check\n",
    "weather.limit(25).toPandas()"
   ]
  },
  {
   "cell_type": "code",
   "execution_count": 186,
   "metadata": {},
   "outputs": [],
   "source": [
    "# I chose to use the SparkSQL API to _optimize for readability_.\n",
    "# I could have used the DataFrame API. I'll include that code if time allows.\n",
    "\n",
    "full_weather = sqlcontext.sql(\"\"\"\n",
    "    SELECT *\n",
    "    FROM weather w \n",
    "    LEFT JOIN stationlist s ON(w.`STN---` = s.STN_NO)\n",
    "    LEFT JOIN countrylist c USING(COUNTRY_ABBR)\n",
    "\"\"\")\n",
    "full_weather.createOrReplaceTempView('full_weather')\n"
   ]
  },
  {
   "cell_type": "code",
   "execution_count": 187,
   "metadata": {},
   "outputs": [
    {
     "data": {
      "text/plain": [
       "['COUNTRY_ABBR',\n",
       " 'STN---',\n",
       " 'WBAN',\n",
       " 'YEARMODA',\n",
       " 'TEMP',\n",
       " 'DEWP',\n",
       " 'SLP',\n",
       " 'STP',\n",
       " 'VISIB',\n",
       " 'WDSP',\n",
       " 'MXSPD',\n",
       " 'GUST',\n",
       " 'MAX',\n",
       " 'MIN',\n",
       " 'PRCP',\n",
       " 'SNDP',\n",
       " 'FRSHTT',\n",
       " 'MEASUREMENT_DATE',\n",
       " 'STN_NO',\n",
       " 'COUNTRY_FULL']"
      ]
     },
     "execution_count": 187,
     "metadata": {},
     "output_type": "execute_result"
    }
   ],
   "source": [
    "full_weather.columns"
   ]
  },
  {
   "cell_type": "code",
   "execution_count": 188,
   "metadata": {},
   "outputs": [
    {
     "data": {
      "text/html": [
       "<div>\n",
       "<style scoped>\n",
       "    .dataframe tbody tr th:only-of-type {\n",
       "        vertical-align: middle;\n",
       "    }\n",
       "\n",
       "    .dataframe tbody tr th {\n",
       "        vertical-align: top;\n",
       "    }\n",
       "\n",
       "    .dataframe thead th {\n",
       "        text-align: right;\n",
       "    }\n",
       "</style>\n",
       "<table border=\"1\" class=\"dataframe\">\n",
       "  <thead>\n",
       "    <tr style=\"text-align: right;\">\n",
       "      <th></th>\n",
       "      <th>0</th>\n",
       "      <th>1</th>\n",
       "      <th>2</th>\n",
       "      <th>3</th>\n",
       "      <th>4</th>\n",
       "    </tr>\n",
       "  </thead>\n",
       "  <tbody>\n",
       "    <tr>\n",
       "      <th>COUNTRY_ABBR</th>\n",
       "      <td>NO</td>\n",
       "      <td>NO</td>\n",
       "      <td>NO</td>\n",
       "      <td>NO</td>\n",
       "      <td>NO</td>\n",
       "    </tr>\n",
       "    <tr>\n",
       "      <th>STN---</th>\n",
       "      <td>10260</td>\n",
       "      <td>10260</td>\n",
       "      <td>10260</td>\n",
       "      <td>10260</td>\n",
       "      <td>10260</td>\n",
       "    </tr>\n",
       "    <tr>\n",
       "      <th>WBAN</th>\n",
       "      <td>99999</td>\n",
       "      <td>99999</td>\n",
       "      <td>99999</td>\n",
       "      <td>99999</td>\n",
       "      <td>99999</td>\n",
       "    </tr>\n",
       "    <tr>\n",
       "      <th>YEARMODA</th>\n",
       "      <td>20190101</td>\n",
       "      <td>20190102</td>\n",
       "      <td>20190103</td>\n",
       "      <td>20190104</td>\n",
       "      <td>20190105</td>\n",
       "    </tr>\n",
       "    <tr>\n",
       "      <th>TEMP</th>\n",
       "      <td>26.1</td>\n",
       "      <td>24.9</td>\n",
       "      <td>31.7</td>\n",
       "      <td>32.9</td>\n",
       "      <td>35.5</td>\n",
       "    </tr>\n",
       "    <tr>\n",
       "      <th>DEWP</th>\n",
       "      <td>21.2</td>\n",
       "      <td>22.1</td>\n",
       "      <td>29.1</td>\n",
       "      <td>30.3</td>\n",
       "      <td>33</td>\n",
       "    </tr>\n",
       "    <tr>\n",
       "      <th>SLP</th>\n",
       "      <td>1001.9</td>\n",
       "      <td>1020.1</td>\n",
       "      <td>1008.9</td>\n",
       "      <td>1011.4</td>\n",
       "      <td>1015.7</td>\n",
       "    </tr>\n",
       "    <tr>\n",
       "      <th>STP</th>\n",
       "      <td>987.5</td>\n",
       "      <td>1005.5</td>\n",
       "      <td>994.7</td>\n",
       "      <td>997.1</td>\n",
       "      <td>1001.4</td>\n",
       "    </tr>\n",
       "    <tr>\n",
       "      <th>VISIB</th>\n",
       "      <td>20.6</td>\n",
       "      <td>5.4</td>\n",
       "      <td>13.6</td>\n",
       "      <td>15.8</td>\n",
       "      <td>12</td>\n",
       "    </tr>\n",
       "    <tr>\n",
       "      <th>WDSP</th>\n",
       "      <td>9</td>\n",
       "      <td>5.6</td>\n",
       "      <td>11.6</td>\n",
       "      <td>4.9</td>\n",
       "      <td>10.4</td>\n",
       "    </tr>\n",
       "    <tr>\n",
       "      <th>MXSPD</th>\n",
       "      <td>15.9</td>\n",
       "      <td>13.6</td>\n",
       "      <td>21.4</td>\n",
       "      <td>7.8</td>\n",
       "      <td>13.6</td>\n",
       "    </tr>\n",
       "    <tr>\n",
       "      <th>GUST</th>\n",
       "      <td>29.7</td>\n",
       "      <td>22.1</td>\n",
       "      <td>49.5</td>\n",
       "      <td>10.9</td>\n",
       "      <td>21</td>\n",
       "    </tr>\n",
       "    <tr>\n",
       "      <th>MAX</th>\n",
       "      <td>29.8</td>\n",
       "      <td>27.1*</td>\n",
       "      <td>37.4*</td>\n",
       "      <td>36.1</td>\n",
       "      <td>38.5*</td>\n",
       "    </tr>\n",
       "    <tr>\n",
       "      <th>MIN</th>\n",
       "      <td>21.7*</td>\n",
       "      <td>20.7</td>\n",
       "      <td>26.8*</td>\n",
       "      <td>31.8</td>\n",
       "      <td>32.7</td>\n",
       "    </tr>\n",
       "    <tr>\n",
       "      <th>PRCP</th>\n",
       "      <td>0.02G</td>\n",
       "      <td>0.48G</td>\n",
       "      <td>0.25G</td>\n",
       "      <td>0.52G</td>\n",
       "      <td>0.02G</td>\n",
       "    </tr>\n",
       "    <tr>\n",
       "      <th>SNDP</th>\n",
       "      <td>18.5</td>\n",
       "      <td>22.8</td>\n",
       "      <td>999.9</td>\n",
       "      <td>999.9</td>\n",
       "      <td>23.6</td>\n",
       "    </tr>\n",
       "    <tr>\n",
       "      <th>FRSHTT</th>\n",
       "      <td>1000</td>\n",
       "      <td>1000</td>\n",
       "      <td>11000</td>\n",
       "      <td>1000</td>\n",
       "      <td>10000</td>\n",
       "    </tr>\n",
       "    <tr>\n",
       "      <th>MEASUREMENT_DATE</th>\n",
       "      <td>2019-01-01</td>\n",
       "      <td>2019-01-02</td>\n",
       "      <td>2019-01-03</td>\n",
       "      <td>2019-01-04</td>\n",
       "      <td>2019-01-05</td>\n",
       "    </tr>\n",
       "    <tr>\n",
       "      <th>STN_NO</th>\n",
       "      <td>010260</td>\n",
       "      <td>010260</td>\n",
       "      <td>010260</td>\n",
       "      <td>010260</td>\n",
       "      <td>010260</td>\n",
       "    </tr>\n",
       "    <tr>\n",
       "      <th>COUNTRY_FULL</th>\n",
       "      <td>NORWAY</td>\n",
       "      <td>NORWAY</td>\n",
       "      <td>NORWAY</td>\n",
       "      <td>NORWAY</td>\n",
       "      <td>NORWAY</td>\n",
       "    </tr>\n",
       "  </tbody>\n",
       "</table>\n",
       "</div>"
      ],
      "text/plain": [
       "                           0           1           2           3           4\n",
       "COUNTRY_ABBR              NO          NO          NO          NO          NO\n",
       "STN---                 10260       10260       10260       10260       10260\n",
       "WBAN                   99999       99999       99999       99999       99999\n",
       "YEARMODA            20190101    20190102    20190103    20190104    20190105\n",
       "TEMP                    26.1        24.9        31.7        32.9        35.5\n",
       "DEWP                    21.2        22.1        29.1        30.3          33\n",
       "SLP                   1001.9      1020.1      1008.9      1011.4      1015.7\n",
       "STP                    987.5      1005.5       994.7       997.1      1001.4\n",
       "VISIB                   20.6         5.4        13.6        15.8          12\n",
       "WDSP                       9         5.6        11.6         4.9        10.4\n",
       "MXSPD                   15.9        13.6        21.4         7.8        13.6\n",
       "GUST                    29.7        22.1        49.5        10.9          21\n",
       "MAX                     29.8       27.1*       37.4*        36.1       38.5*\n",
       "MIN                    21.7*        20.7       26.8*        31.8        32.7\n",
       "PRCP                   0.02G       0.48G       0.25G       0.52G       0.02G\n",
       "SNDP                    18.5        22.8       999.9       999.9        23.6\n",
       "FRSHTT                  1000        1000       11000        1000       10000\n",
       "MEASUREMENT_DATE  2019-01-01  2019-01-02  2019-01-03  2019-01-04  2019-01-05\n",
       "STN_NO                010260      010260      010260      010260      010260\n",
       "COUNTRY_FULL          NORWAY      NORWAY      NORWAY      NORWAY      NORWAY"
      ]
     },
     "execution_count": 188,
     "metadata": {},
     "output_type": "execute_result"
    }
   ],
   "source": [
    "# Another quick visual check\n",
    "full_weather.limit(5).toPandas().T"
   ]
  },
  {
   "cell_type": "markdown",
   "metadata": {},
   "source": [
    "# Step 2 - Questions"
   ]
  },
  {
   "cell_type": "markdown",
   "metadata": {},
   "source": [
    "## Question 1 - Which country had the hottest average mean temperature over the year?"
   ]
  },
  {
   "cell_type": "code",
   "execution_count": 189,
   "metadata": {},
   "outputs": [],
   "source": [
    "# First I inspect the data and do a few \"sanity checks\""
   ]
  },
  {
   "cell_type": "code",
   "execution_count": 190,
   "metadata": {},
   "outputs": [
    {
     "data": {
      "text/plain": [
       "233"
      ]
     },
     "execution_count": 190,
     "metadata": {},
     "output_type": "execute_result"
    }
   ],
   "source": [
    "# Now I am using Spark DataFrame API, because I think it is more readable.\n",
    "\n",
    "full_weather.select('COUNTRY_FULL').distinct().count()"
   ]
  },
  {
   "cell_type": "code",
   "execution_count": 191,
   "metadata": {},
   "outputs": [
    {
     "data": {
      "text/plain": [
       "287"
      ]
     },
     "execution_count": 191,
     "metadata": {},
     "output_type": "execute_result"
    }
   ],
   "source": [
    "\n",
    "countrylist.select('COUNTRY_FULL').distinct().count()"
   ]
  },
  {
   "cell_type": "code",
   "execution_count": 192,
   "metadata": {},
   "outputs": [],
   "source": [
    "# Not all countries are in the data, OK."
   ]
  },
  {
   "cell_type": "code",
   "execution_count": 193,
   "metadata": {},
   "outputs": [
    {
     "data": {
      "text/plain": [
       "12144"
      ]
     },
     "execution_count": 193,
     "metadata": {},
     "output_type": "execute_result"
    }
   ],
   "source": [
    "weather.select('STN---').distinct().count()"
   ]
  },
  {
   "cell_type": "code",
   "execution_count": 194,
   "metadata": {},
   "outputs": [
    {
     "data": {
      "text/plain": [
       "12144"
      ]
     },
     "execution_count": 194,
     "metadata": {},
     "output_type": "execute_result"
    }
   ],
   "source": [
    "full_weather.select('STN---').distinct().count()"
   ]
  },
  {
   "cell_type": "code",
   "execution_count": 195,
   "metadata": {},
   "outputs": [],
   "source": [
    "# No stations lost during join, good."
   ]
  },
  {
   "cell_type": "code",
   "execution_count": 196,
   "metadata": {},
   "outputs": [
    {
     "data": {
      "text/plain": [
       "0"
      ]
     },
     "execution_count": 196,
     "metadata": {},
     "output_type": "execute_result"
    }
   ],
   "source": [
    "# Mixing DataFrame and SQL APIs. functions imported as F to make sure that it does not get confused with native Python functions, such as max.\n",
    "full_weather\\\n",
    "    .withColumn('no_country_code', F.expr('ISNULL(COUNTRY_FULL)'))\\\n",
    "    .where('COUNTRY_FULL is false')\\\n",
    "    .count()"
   ]
  },
  {
   "cell_type": "code",
   "execution_count": 197,
   "metadata": {},
   "outputs": [],
   "source": [
    "# No missing countries, good"
   ]
  },
  {
   "cell_type": "code",
   "execution_count": 198,
   "metadata": {},
   "outputs": [
    {
     "name": "stdout",
     "output_type": "stream",
     "text": [
      "+-------------+-------------+\n",
      "|min(YEARMODA)|max(YEARMODA)|\n",
      "+-------------+-------------+\n",
      "|     20190101|     20200101|\n",
      "+-------------+-------------+\n",
      "\n"
     ]
    }
   ],
   "source": [
    "full_weather.agg(F.min('YEARMODA'), F.max('YEARMODA')).show()"
   ]
  },
  {
   "cell_type": "code",
   "execution_count": 199,
   "metadata": {},
   "outputs": [],
   "source": [
    "# One year + 1 day, OK."
   ]
  },
  {
   "cell_type": "code",
   "execution_count": 200,
   "metadata": {},
   "outputs": [
    {
     "name": "stdout",
     "output_type": "stream",
     "text": [
      "+------------+\n",
      "|COUNTRY_ABBR|\n",
      "+------------+\n",
      "|          UC|\n",
      "|          RI|\n",
      "|          OD|\n",
      "|          AE|\n",
      "|          KV|\n",
      "|          MJ|\n",
      "|          NN|\n",
      "+------------+\n",
      "\n"
     ]
    }
   ],
   "source": [
    "full_weather.where(F.expr('ISNULL(COUNTRY_FULL)')).select('COUNTRY_ABBR').distinct().show()"
   ]
  },
  {
   "cell_type": "code",
   "execution_count": 201,
   "metadata": {},
   "outputs": [],
   "source": [
    "# UC is probably unkknown country, but what are the others?\n",
    "# I'll ignore these given time constraints."
   ]
  },
  {
   "cell_type": "code",
   "execution_count": 202,
   "metadata": {},
   "outputs": [
    {
     "data": {
      "text/plain": [
       "(4143167, 4065962)"
      ]
     },
     "execution_count": 202,
     "metadata": {},
     "output_type": "execute_result"
    }
   ],
   "source": [
    "full_weather.where(~F.expr('ISNULL(COUNTRY_FULL)')).count(), full_weather.where(~F.expr('ISNULL(COUNTRY_FULL)')).select(['STN---', 'YEARMODA']).distinct().count()"
   ]
  },
  {
   "cell_type": "code",
   "execution_count": 203,
   "metadata": {},
   "outputs": [],
   "source": [
    "# My granularity is probably Station x Date, with some dirty data."
   ]
  },
  {
   "cell_type": "code",
   "execution_count": 204,
   "metadata": {},
   "outputs": [
    {
     "name": "stdout",
     "output_type": "stream",
     "text": [
      "+-------+------------------+\n",
      "|summary|              TEMP|\n",
      "+-------+------------------+\n",
      "|  count|           4161334|\n",
      "|   mean|55.264967820415656|\n",
      "| stddev| 23.27092727176463|\n",
      "|    min|            -114.7|\n",
      "|    max|             110.0|\n",
      "+-------+------------------+\n",
      "\n",
      "Wall time: 2.37 s\n"
     ]
    }
   ],
   "source": [
    "%%time\n",
    "# Using only the DataFrame API in this case to _optimize for readbility_.\n",
    "# Also getting a sense of how much time is required.\n",
    "\n",
    "full_weather\\\n",
    "    .where(full_weather['TEMP'] != 9999.9)\\\n",
    "    .select('TEMP')\\\n",
    "    .describe()\\\n",
    "    .show()"
   ]
  },
  {
   "cell_type": "code",
   "execution_count": 205,
   "metadata": {},
   "outputs": [],
   "source": [
    "# Figures above are somewhat believable, I guess no other data missingness?\n",
    "# WARNING: I make a mental note that perhaps data got cut off above 100 - a potential data issue\n",
    "# Average temperatures should go above 100F in some countries.\n",
    "# No immediate solution, so I keep on."
   ]
  },
  {
   "cell_type": "code",
   "execution_count": 206,
   "metadata": {},
   "outputs": [
    {
     "data": {
      "text/plain": [
       "['COUNTRY_ABBR',\n",
       " 'STN---',\n",
       " 'WBAN',\n",
       " 'YEARMODA',\n",
       " 'TEMP',\n",
       " 'DEWP',\n",
       " 'SLP',\n",
       " 'STP',\n",
       " 'VISIB',\n",
       " 'WDSP',\n",
       " 'MXSPD',\n",
       " 'GUST',\n",
       " 'MAX',\n",
       " 'MIN',\n",
       " 'PRCP',\n",
       " 'SNDP',\n",
       " 'FRSHTT',\n",
       " 'MEASUREMENT_DATE',\n",
       " 'STN_NO',\n",
       " 'COUNTRY_FULL']"
      ]
     },
     "execution_count": 206,
     "metadata": {},
     "output_type": "execute_result"
    }
   ],
   "source": [
    "full_weather.columns"
   ]
  },
  {
   "cell_type": "markdown",
   "metadata": {},
   "source": [
    "## Answer to Question 1"
   ]
  },
  {
   "cell_type": "code",
   "execution_count": 207,
   "metadata": {},
   "outputs": [
    {
     "name": "stdout",
     "output_type": "stream",
     "text": [
      "+------------+-------------------------+\n",
      "|COUNTRY_FULL|COUNTRY_AVERAGE_MEAN_TEMP|\n",
      "+------------+-------------------------+\n",
      "|    DJIBOUTI|        90.06114457831325|\n",
      "+------------+-------------------------+\n",
      "\n"
     ]
    }
   ],
   "source": [
    "# hottest average mean temperature:\n",
    "# I interpret this as: average over all of the days in a year for each country. That the \"average mean\".\n",
    "# Then choose the country with the highest \"average mean temperature\".\n",
    "\n",
    "# I could have removed the duplicates, but there is very few of them, so I chose to keep them in until I understand why they exist.\n",
    "\n",
    "sqlcontext.sql(\"\"\"\n",
    "WITH COUNTRY_AVERAGES AS (\n",
    "    SELECT \n",
    "        COUNTRY_FULL\n",
    "        , AVG(TEMP) AS COUNTRY_AVERAGE_MEAN_TEMP\n",
    "    FROM \n",
    "        full_weather\n",
    "    WHERE TRUE\n",
    "        AND TEMP < 9999.9\n",
    "        AND NOT ISNULL(COUNTRY_FULL)                  \n",
    "    GROUP BY\n",
    "        COUNTRY_FULL\n",
    ")\n",
    "\n",
    "SELECT \n",
    "    COUNTRY_FULL\n",
    "    , COUNTRY_AVERAGE_MEAN_TEMP\n",
    "FROM COUNTRY_AVERAGES\n",
    "ORDER BY COUNTRY_AVERAGE_MEAN_TEMP DESC\n",
    "LIMIT 1\n",
    "\"\"\").show()"
   ]
  },
  {
   "cell_type": "code",
   "execution_count": 208,
   "metadata": {},
   "outputs": [],
   "source": [
    "# Djibouti - I believe this."
   ]
  },
  {
   "cell_type": "markdown",
   "metadata": {},
   "source": [
    "## Question 2 - Which country had the most consecutive days of tornadoes/funnel cloud formations?"
   ]
  },
  {
   "cell_type": "code",
   "execution_count": 214,
   "metadata": {},
   "outputs": [],
   "source": [
    "tornadoes = full_weather\\\n",
    "    .select('COUNTRY_ABBR','COUNTRY_FULL','MEASUREMENT_DATE', 'FRSHTT')\\\n",
    "    .where(F.expr('NOT ISNULL(COUNTRY_FULL)'))\\\n",
    "    .withColumn('T', F.substring('FRSHTT', -1, 1) == 1)\n",
    "tornadoes.createOrReplaceTempView('tornadoes')"
   ]
  },
  {
   "cell_type": "code",
   "execution_count": 215,
   "metadata": {},
   "outputs": [
    {
     "data": {
      "text/plain": [
       "309"
      ]
     },
     "execution_count": 215,
     "metadata": {},
     "output_type": "execute_result"
    }
   ],
   "source": [
    "tornadoes.where('T').count()"
   ]
  },
  {
   "cell_type": "code",
   "execution_count": 216,
   "metadata": {},
   "outputs": [
    {
     "name": "stdout",
     "output_type": "stream",
     "text": [
      "+------------+-------------------+----------------+------+----+\n",
      "|COUNTRY_ABBR|       COUNTRY_FULL|MEASUREMENT_DATE|FRSHTT|   T|\n",
      "+------------+-------------------+----------------+------+----+\n",
      "|          US|      UNITED STATES|      2019-06-30| 10011|true|\n",
      "|          TH|           THAILAND|      2019-12-18|     1|true|\n",
      "|          SC|ST. KITTS AND NEVIS|      2019-06-07| 10001|true|\n",
      "|          BF|        BAHAMAS THE|      2019-10-07| 10011|true|\n",
      "|          NI|            NIGERIA|      2019-10-04|    11|true|\n",
      "|          CO|           COLOMBIA|      2019-12-05|110011|true|\n",
      "|          IT|              ITALY|      2019-05-12| 10111|true|\n",
      "|          IT|              ITALY|      2019-07-27| 10011|true|\n",
      "|          IT|              ITALY|      2019-11-20|     1|true|\n",
      "|          IT|              ITALY|      2019-07-06|     1|true|\n",
      "|          TU|             TURKEY|      2019-02-01|110001|true|\n",
      "|          SP|              SPAIN|      2019-04-24| 10001|true|\n",
      "|          IN|              INDIA|      2019-08-16|     1|true|\n",
      "|          IT|              ITALY|      2019-01-15|     1|true|\n",
      "|          IT|              ITALY|      2019-10-03| 10011|true|\n",
      "|          LA|               LAOS|      2019-06-05|    11|true|\n",
      "|          CY|             CYPRUS|      2019-11-02| 10001|true|\n",
      "|          CJ|     CAYMAN ISLANDS|      2019-08-24|     1|true|\n",
      "|          CJ|     CAYMAN ISLANDS|      2019-01-15| 10001|true|\n",
      "|          CJ|     CAYMAN ISLANDS|      2019-02-09|     1|true|\n",
      "+------------+-------------------+----------------+------+----+\n",
      "only showing top 20 rows\n",
      "\n"
     ]
    }
   ],
   "source": [
    "tornadoes.where('T').sample(.1).show()"
   ]
  },
  {
   "cell_type": "markdown",
   "metadata": {},
   "source": [
    "## Answer to Question 2"
   ]
  },
  {
   "cell_type": "code",
   "execution_count": 232,
   "metadata": {},
   "outputs": [
    {
     "name": "stdout",
     "output_type": "stream",
     "text": [
      "+--------------+\n",
      "|  COUNTRY_FULL|\n",
      "+--------------+\n",
      "|CAYMAN ISLANDS|\n",
      "+--------------+\n",
      "\n"
     ]
    }
   ],
   "source": [
    "sqlcontext.sql(\"\"\"\n",
    "WITH CONSECUTIVE_INTERVALS AS(\n",
    "    SELECT COUNTRY_ABBR, COUNTRY_FULL, MEASUREMENT_DATE,\n",
    "        DATE_ADD(MEASUREMENT_DATE,-ROW_NUMBER() OVER(PARTITION BY COUNTRY_FULL ORDER BY MEASUREMENT_DATE ASC)) as START_DATE\n",
    "    FROM tornadoes\n",
    "    WHERE T AND NOT ISNULL(COUNTRY_FULL)\n",
    "    ORDER BY COUNTRY_FULL, MEASUREMENT_DATE\n",
    "),\n",
    "INTERVAL_LENGTHS AS(\n",
    "    SELECT COUNTRY_FULL, DATEDIFF(MAX(MEASUREMENT_DATE), MIN(START_DATE)) AS LENGTH\n",
    "    FROM CONSECUTIVE_INTERVALS\n",
    "    GROUP BY COUNTRY_FULL\n",
    ")\n",
    "SELECT COUNTRY_FULL\n",
    "FROM INTERVAL_LENGTHS\n",
    "ORDER BY LENGTH DESC\n",
    "LIMIT 1\n",
    "\"\"\").show()"
   ]
  },
  {
   "cell_type": "markdown",
   "metadata": {},
   "source": [
    "## Question 3 - Which country had the second highest average mean wind speed over the year?"
   ]
  },
  {
   "cell_type": "code",
   "execution_count": 235,
   "metadata": {},
   "outputs": [
    {
     "name": "stdout",
     "output_type": "stream",
     "text": [
      "+--------------------+-------------------------------+\n",
      "|        COUNTRY_FULL|COUNTRY_AVERAGE_MEAN_WIND_SPEED|\n",
      "+--------------------+-------------------------------+\n",
      "|FALKLAND ISLANDS ...|             17.877833001988083|\n",
      "|               ARUBA|             15.975683060109283|\n",
      "+--------------------+-------------------------------+\n",
      "\n"
     ]
    }
   ],
   "source": [
    "sqlcontext.sql(\"\"\"\n",
    "WITH COUNTRY_AVERAGES AS (\n",
    "    SELECT \n",
    "        COUNTRY_FULL\n",
    "        , AVG(WDSP) AS COUNTRY_AVERAGE_MEAN_WIND_SPEED\n",
    "    FROM \n",
    "        full_weather\n",
    "    WHERE TRUE\n",
    "        AND WDSP < 999.9\n",
    "        AND NOT ISNULL(COUNTRY_FULL)                  \n",
    "    GROUP BY\n",
    "        COUNTRY_FULL\n",
    ")\n",
    "\n",
    "SELECT \n",
    "    COUNTRY_FULL\n",
    "    , COUNTRY_AVERAGE_MEAN_WIND_SPEED\n",
    "FROM COUNTRY_AVERAGES\n",
    "ORDER BY COUNTRY_AVERAGE_MEAN_WIND_SPEED DESC\n",
    "LIMIT 2\n",
    "\"\"\").show()"
   ]
  },
  {
   "cell_type": "code",
   "execution_count": null,
   "metadata": {},
   "outputs": [],
   "source": [
    "# The answer is Aruba"
   ]
  }
 ],
 "metadata": {
  "kernelspec": {
   "display_name": "Python 3",
   "language": "python",
   "name": "python3"
  },
  "language_info": {
   "codemirror_mode": {
    "name": "ipython",
    "version": 3
   },
   "file_extension": ".py",
   "mimetype": "text/x-python",
   "name": "python",
   "nbconvert_exporter": "python",
   "pygments_lexer": "ipython3",
   "version": "3.8.5"
  }
 },
 "nbformat": 4,
 "nbformat_minor": 4
}
